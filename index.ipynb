{
 "cells": [
  {
   "cell_type": "markdown",
   "metadata": {},
   "source": [
    "# Coinbase Transaction\n",
    "\n",
    "All transactions on the Bitcoin network are not created equally. A coinbase transaction is a unique type of Bitcoin transaction that can only be created by a miner. This type of transaction has no inputs, and there is one created with each new block that is mined on the network. In other words, this is the transaction that rewards a miner with the block reward for their work. Any transaction fees collected by the miner are also sent in this transaction. [Credit](https://blog.cex.io/bitcoin-dictionary/coinbase-transaction-12088)"
   ]
  },
  {
   "cell_type": "markdown",
   "metadata": {},
   "source": [
    "### Test Driven Example"
   ]
  },
  {
   "cell_type": "code",
   "execution_count": null,
   "metadata": {},
   "outputs": [],
   "source": [
    "from io import BytesIO\n",
    "from tx import Tx\n",
    "from helper import little_endian_to_int\n",
    "\n",
    "class Tx(Tx):\n",
    "    \n",
    "    def is_coinbase(self):\n",
    "        '''Returns whether this transaction is a coinbase transaction or not'''\n",
    "        # check that there is exactly 1 input\n",
    "        \n",
    "        # grab the first input\n",
    "        # check that first input prev_tx is b'\\x00' * 32 bytes\n",
    "        # check that first input prev_index is 0xffffffff\n",
    "        pass"
   ]
  }
 ],
 "metadata": {
  "kernelspec": {
   "display_name": "Python 3",
   "language": "python",
   "name": "python3"
  },
  "language_info": {
   "codemirror_mode": {
    "name": "ipython",
    "version": 3
   },
   "file_extension": ".py",
   "mimetype": "text/x-python",
   "name": "python",
   "nbconvert_exporter": "python",
   "pygments_lexer": "ipython3",
   "version": "3.6.6"
  }
 },
 "nbformat": 4,
 "nbformat_minor": 2
}
